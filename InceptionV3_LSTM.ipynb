{
  "nbformat": 4,
  "nbformat_minor": 0,
  "metadata": {
    "colab": {
      "name": "InceptionV3-LSTM.ipynb",
      "provenance": [],
      "collapsed_sections": []
    },
    "kernelspec": {
      "display_name": "Python 3",
      "name": "python3"
    },
    "language_info": {
      "name": "python"
    }
  },
  "cells": [
    {
      "cell_type": "markdown",
      "metadata": {
        "id": "7cWdA_QbfCJb"
      },
      "source": [
        "# InceptionV3 + LSTM video classifier"
      ]
    },
    {
      "cell_type": "markdown",
      "metadata": {
        "id": "u-vRTp_2gfdA"
      },
      "source": [
        "## Mounting Google Drive"
      ]
    },
    {
      "cell_type": "code",
      "metadata": {
        "id": "-F8dIKjVBfFx"
      },
      "source": [
        "from google.colab import drive\n",
        "drive.mount('/content/drive')"
      ],
      "execution_count": null,
      "outputs": []
    },
    {
      "cell_type": "markdown",
      "metadata": {
        "id": "kodbdCldkcjO"
      },
      "source": [
        "## Preparing the dataset"
      ]
    },
    {
      "cell_type": "markdown",
      "metadata": {
        "id": "T_IGyd3uiN9n"
      },
      "source": [
        "### Unzipping the dataset"
      ]
    },
    {
      "cell_type": "code",
      "metadata": {
        "id": "Mb2ZomVzgveo"
      },
      "source": [
        "import os\n",
        "import zipfile\n",
        "\n",
        "local_zip = '/content/drive/MyDrive/THETIS_DATASET_BH_FH_SPLIT.zip' # path to the zip with the THETIS dataset\n",
        "zip_ref = zipfile.ZipFile(local_zip, 'r') \n",
        "zip_ref.extractall('/content') # path to extract the zip to\n",
        "zip_ref.close()"
      ],
      "execution_count": null,
      "outputs": []
    },
    {
      "cell_type": "markdown",
      "metadata": {
        "id": "XUXxD2k9tM_7"
      },
      "source": [
        "The name of the unzipped folder needs to be changed to \"data\""
      ]
    },
    {
      "cell_type": "markdown",
      "metadata": {
        "id": "rW5Gi7stD_kh"
      },
      "source": [
        "### Dividing into training, test and validation"
      ]
    },
    {
      "cell_type": "code",
      "metadata": {
        "id": "xC_w8srzBjZm"
      },
      "source": [
        "pip install split-folders"
      ],
      "execution_count": null,
      "outputs": []
    },
    {
      "cell_type": "code",
      "metadata": {
        "colab": {
          "base_uri": "https://localhost:8080/"
        },
        "id": "x2J4pKVyEo1y",
        "outputId": "da3ea490-3c81-408a-b6fe-36a22df1765d"
      },
      "source": [
        "import splitfolders \n",
        "splitfolders.ratio('VIDEO_RGB', output=\"data\", seed=1337, ratio=(.6, 0.2,0.2))"
      ],
      "execution_count": null,
      "outputs": [
        {
          "output_type": "stream",
          "text": [
            "Copying files: 12 files [00:00, 31.23 files/s]\n"
          ],
          "name": "stderr"
        }
      ]
    },
    {
      "cell_type": "markdown",
      "metadata": {
        "id": "pjzIWWYkhGOj"
      },
      "source": [
        "## Cloning the LSTM-video-classification repository"
      ]
    },
    {
      "cell_type": "code",
      "metadata": {
        "id": "yfH3WED5FDI5"
      },
      "source": [
        "!git clone https://github.com/maroacc/LSTM-video-classification.git"
      ],
      "execution_count": null,
      "outputs": []
    },
    {
      "cell_type": "markdown",
      "metadata": {
        "id": "CHfkuC1Kk6tB"
      },
      "source": [
        "## Extracting the images from the videos"
      ]
    },
    {
      "cell_type": "markdown",
      "metadata": {
        "id": "GrB0Ulm5lT_P"
      },
      "source": [
        "\n",
        "\n",
        "```\n",
        "! python extract_files.py mp4\n",
        "```\n",
        "\n"
      ]
    },
    {
      "cell_type": "code",
      "metadata": {
        "id": "k93CNMvcFJbX"
      },
      "source": [
        "%cd /content/data/\n",
        "!python /content/drive/MyDrive/cnn/Fork/LSTM-video-classification/data/extract_files.py avi"
      ],
      "execution_count": null,
      "outputs": []
    },
    {
      "cell_type": "markdown",
      "metadata": {
        "id": "pAvUic6Rl9OV"
      },
      "source": [
        "The file data/data_file.csv contains the duration (number of frames) of the videos. To classify all of them choose for the training a sequence lenght of the minimum duration"
      ]
    },
    {
      "cell_type": "markdown",
      "metadata": {
        "id": "nm6F5LL4kwmP"
      },
      "source": [
        "## Training"
      ]
    },
    {
      "cell_type": "markdown",
      "metadata": {
        "id": "Se7QZtPtlH-L"
      },
      "source": [
        "\n",
        "\n",
        "```\n",
        "! python train.py 43 2 480 640\n",
        "```\n",
        "\n"
      ]
    },
    {
      "cell_type": "code",
      "metadata": {
        "id": "oLH6InP_FgTJ"
      },
      "source": [
        "!python /content/drive/MyDrive/cnn/Fork/LSTM-video-classification/train.py 43 2 480 640 "
      ],
      "execution_count": null,
      "outputs": []
    },
    {
      "cell_type": "markdown",
      "metadata": {
        "id": "4Dr-JAbx88Ny"
      },
      "source": [
        "## Evaluating"
      ]
    },
    {
      "cell_type": "markdown",
      "metadata": {
        "id": "dZ5J6eKR9Llq"
      },
      "source": [
        "```\n",
        "! python predict.py 43 2 lstm_features.hdf5 train\n",
        "```\n",
        "\n"
      ]
    },
    {
      "cell_type": "code",
      "metadata": {
        "id": "eSUmr8q337L0"
      },
      "source": [
        "!python /content/drive/MyDrive/cnn/Fork/LSTM-video-classification/predict.py 43 2  '/content/data/checkpoints/lstm-features.040-0.101.hdf5'  train\n",
        " "
      ],
      "execution_count": null,
      "outputs": []
    },
    {
      "cell_type": "markdown",
      "metadata": {
        "id": "vUSfPxnP9GK6"
      },
      "source": [
        "## Clasifying"
      ]
    },
    {
      "cell_type": "markdown",
      "metadata": {
        "id": "DoNtQELg9WiS"
      },
      "source": [
        "```\n",
        "! python clasify.py 43 2 lstm-features.hdf5 forehand.avi\n",
        "```\n",
        "\n"
      ]
    },
    {
      "cell_type": "code",
      "metadata": {
        "id": "_zaQLLkHHAxq"
      },
      "source": [
        "!python /content/drive/MyDrive/cnn/Fork/LSTM-video-classification/clasify.py 43 2  /content/data/checkpoints/lstm-features.040-0.101.hdf5 /content/drive/MyDrive/cnn/Fork/LSTM-video-classification/videos/reves-4.avi"
      ],
      "execution_count": null,
      "outputs": []
    }
  ]
}